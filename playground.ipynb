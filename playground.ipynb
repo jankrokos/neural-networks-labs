{
 "cells": [
  {
   "cell_type": "markdown",
   "source": [
    "Imports"
   ],
   "metadata": {
    "collapsed": false
   },
   "id": "1a392567f7ae384d"
  },
  {
   "cell_type": "code",
   "execution_count": 1,
   "outputs": [
    {
     "name": "stdout",
     "output_type": "stream",
     "text": [
      "WARNING:tensorflow:From C:\\Users\\jankr\\PycharmProjects\\neural-networks-labs\\venv\\lib\\site-packages\\keras\\src\\losses.py:2976: The name tf.losses.sparse_softmax_cross_entropy is deprecated. Please use tf.compat.v1.losses.sparse_softmax_cross_entropy instead.\n"
     ]
    }
   ],
   "source": [
    "import numpy as np\n",
    "from matplotlib import pyplot as plt\n",
    "\n",
    "from models.initializers import xavier_init, random_init, he_init\n",
    "from models.losses import MeanSquaredError, CrossEntropyLoss\n",
    "from models.activations import ReLU, Softmax, Sigmoid\n",
    "from models.network import NeuralNetwork\n",
    "from models.layers import DenseLayer\n",
    "from load_data import load_fashion_mnist, load_mnist\n",
    "from utils import one_hot_encode\n"
   ],
   "metadata": {
    "collapsed": false,
    "ExecuteTime": {
     "end_time": "2023-11-26T16:14:30.705103700Z",
     "start_time": "2023-11-26T16:14:21.990066900Z"
    }
   },
   "id": "cbf57d449e861d10"
  },
  {
   "cell_type": "markdown",
   "source": [
    "Data loading"
   ],
   "metadata": {
    "collapsed": false
   },
   "id": "a36e1cd70783d1ce"
  },
  {
   "cell_type": "code",
   "execution_count": 2,
   "outputs": [],
   "source": [
    "x_train, y_train, x_test, y_test = load_fashion_mnist()\n",
    "y_train_one_hot = one_hot_encode(y_train, 10)\n",
    "y_test_one_hot = one_hot_encode(y_test, 10)"
   ],
   "metadata": {
    "collapsed": false,
    "ExecuteTime": {
     "end_time": "2023-11-26T16:14:31.479975100Z",
     "start_time": "2023-11-26T16:14:30.708834600Z"
    }
   },
   "id": "c9a60dc71c3f0b6f"
  },
  {
   "cell_type": "code",
   "execution_count": 3,
   "outputs": [
    {
     "name": "stdout",
     "output_type": "stream",
     "text": [
      "Epoch: 1, Loss: 0.592\n",
      "Epoch: 2, Loss: 0.410\n",
      "Epoch: 3, Loss: 0.279\n",
      "Epoch: 4, Loss: 0.264\n",
      "Accuracy: 86.19%\n"
     ]
    }
   ],
   "source": [
    "classifier1 = NeuralNetwork()\n",
    "classifier1.add_layer(DenseLayer(784, 360, activation_fn=ReLU(), initializer=he_init))\n",
    "classifier1.add_layer(DenseLayer(360, 100, activation_fn=ReLU(), initializer=he_init))\n",
    "classifier1.add_layer(DenseLayer(100, 10, activation_fn=Softmax(), initializer=he_init))\n",
    "\n",
    "classifier1.train(x_train, y_train_one_hot, epochs=10, learning_rate=0.001, loss_function=CrossEntropyLoss(),\n",
    "                  batch_size=100)\n",
    "\n",
    "classifier1.evaluate(x_test, y_test_one_hot)"
   ],
   "metadata": {
    "collapsed": false,
    "ExecuteTime": {
     "end_time": "2023-11-26T15:17:51.654302600Z",
     "start_time": "2023-11-26T15:17:28.448862100Z"
    }
   },
   "id": "311802d422538648"
  },
  {
   "cell_type": "code",
   "execution_count": 4,
   "outputs": [
    {
     "name": "stdout",
     "output_type": "stream",
     "text": [
      "Epoch: 1, Loss: 0.369\n",
      "Epoch: 2, Loss: 0.529\n",
      "Epoch: 3, Loss: 0.581\n",
      "Epoch: 4, Loss: 0.328\n",
      "Accuracy: 84.52%\n"
     ]
    }
   ],
   "source": [
    "classifier2 = NeuralNetwork()\n",
    "classifier2.add_layer(DenseLayer(784, 360, activation_fn=ReLU(), initializer=he_init, l2_reg=0.0001))\n",
    "classifier2.add_layer(DenseLayer(360, 100, activation_fn=ReLU(), initializer=he_init, l2_reg=0.0001))\n",
    "classifier2.add_layer(DenseLayer(100, 10, activation_fn=Softmax(), initializer=he_init))\n",
    "\n",
    "classifier2.train(x_train, y_train_one_hot, epochs=10, learning_rate=0.001, loss_function=CrossEntropyLoss(),\n",
    "                  batch_size=100)\n",
    "\n",
    "classifier2.evaluate(x_test, y_test_one_hot)"
   ],
   "metadata": {
    "collapsed": false,
    "ExecuteTime": {
     "end_time": "2023-11-26T15:18:21.180481600Z",
     "start_time": "2023-11-26T15:17:54.803293300Z"
    }
   },
   "id": "fd2ec6715be6e26"
  },
  {
   "cell_type": "code",
   "execution_count": 4,
   "outputs": [
    {
     "name": "stdout",
     "output_type": "stream",
     "text": [
      "Epoch: 1, Loss: 0.093\n",
      "Epoch: 2, Loss: 0.093\n",
      "Epoch: 3, Loss: 0.077\n",
      "Epoch: 4, Loss: 0.058\n",
      "Epoch: 5, Loss: 0.047\n"
     ]
    }
   ],
   "source": [
    "regularized_autoencoder = NeuralNetwork()\n",
    "regularized_autoencoder.add_layer(DenseLayer(784, 360, activation_fn=ReLU(), initializer=he_init, l2_reg=0.0001))\n",
    "regularized_autoencoder.add_layer(DenseLayer(360, 100, activation_fn=ReLU(), initializer=he_init, l2_reg=0.0001))\n",
    "regularized_autoencoder.add_layer(DenseLayer(100, 360, activation_fn=ReLU(), initializer=he_init, l2_reg=0.0001))\n",
    "regularized_autoencoder.add_layer(DenseLayer(360, 784, activation_fn=Sigmoid(), initializer=he_init))\n",
    "\n",
    "regularized_autoencoder.train(x_train, x_train, epochs=5, learning_rate=0.5, loss_function=MeanSquaredError(),\n",
    "                              batch_size=100)"
   ],
   "metadata": {
    "collapsed": false,
    "ExecuteTime": {
     "end_time": "2023-11-26T15:25:53.545341800Z",
     "start_time": "2023-11-26T15:24:55.255524900Z"
    }
   },
   "id": "a64ba51aba1dc4fe"
  },
  {
   "cell_type": "code",
   "execution_count": 13,
   "outputs": [
    {
     "data": {
      "text/plain": "<Figure size 900x600 with 6 Axes>",
      "image/png": "[encoded data removed]"
     },
     "metadata": {},
     "output_type": "display_data"
    }
   ],
   "source": [
    "from utils import add_noise, flip_image, rotate_image\n",
    "\n",
    "original_image = x_train[0]\n",
    "\n",
    "rotated_image = rotate_image(original_image, angle=20)\n",
    "flipped_image = flip_image(original_image)\n",
    "noisy_image = add_noise(original_image, noise_level=0.1)\n",
    "\n",
    "plt.figure(figsize=(9, 6))\n",
    "\n",
    "plt.subplot(2, 3, 1)\n",
    "plt.imshow(original_image.reshape(28, 28), cmap='gray')\n",
    "plt.title(\"Original Image\")\n",
    "plt.axis('off')\n",
    "\n",
    "plt.subplot(2, 3, 2)\n",
    "plt.imshow(original_image.reshape(28, 28), cmap='gray')\n",
    "plt.title(\"Original Image\")\n",
    "plt.axis('off')\n",
    "\n",
    "plt.subplot(2, 3, 3)\n",
    "plt.imshow(original_image.reshape(28, 28), cmap='gray')\n",
    "plt.title(\"Original Image\")\n",
    "plt.axis('off')\n",
    "\n",
    "plt.subplot(2, 3, 4)\n",
    "plt.imshow(rotated_image.reshape(28, 28), cmap='gray')\n",
    "plt.title(\"Rotated Image\")\n",
    "plt.axis('off')\n",
    "\n",
    "plt.subplot(2, 3, 5)\n",
    "plt.imshow(flipped_image.reshape(28, 28), cmap='gray')\n",
    "plt.title(\"Flipped Image\")\n",
    "plt.axis('off')\n",
    "\n",
    "plt.subplot(2, 3, 6)\n",
    "plt.imshow(noisy_image.reshape(28, 28), cmap='gray')\n",
    "plt.title(\"Noisy Image\")\n",
    "plt.axis('off')\n",
    "\n",
    "plt.tight_layout()\n",
    "plt.show()"
   ],
   "metadata": {
    "collapsed": false,
    "ExecuteTime": {
     "end_time": "2023-11-26T15:55:46.586464200Z",
     "start_time": "2023-11-26T15:55:45.704044100Z"
    }
   },
   "id": "4a80d8126dd99989"
  },
  {
   "cell_type": "code",
   "execution_count": 7,
   "outputs": [
    {
     "name": "stdout",
     "output_type": "stream",
     "text": [
      "Epoch: 1, Loss: 0.649\n",
      "Epoch: 2, Loss: 0.363\n",
      "Epoch: 3, Loss: 0.377\n",
      "Accuracy: 84.88%\n"
     ]
    }
   ],
   "source": [
    "super_simple_classifier = NeuralNetwork()\n",
    "super_simple_classifier.add_layer(DenseLayer(784, 100, activation_fn=ReLU(), initializer=he_init))\n",
    "super_simple_classifier.add_layer(DenseLayer(100, 10, activation_fn=Softmax(), initializer=he_init))\n",
    "\n",
    "super_simple_classifier.train(x_train, y_train_one_hot, epochs=3, learning_rate=0.001,\n",
    "                              loss_function=CrossEntropyLoss(),\n",
    "                              batch_size=100)\n",
    "\n",
    "super_simple_classifier.evaluate(x_test, y_test_one_hot)"
   ],
   "metadata": {
    "collapsed": false,
    "ExecuteTime": {
     "end_time": "2023-11-26T16:11:55.575789700Z",
     "start_time": "2023-11-26T16:11:51.504479400Z"
    }
   },
   "id": "740379674b0bed92"
  },
  {
   "cell_type": "code",
   "execution_count": 8,
   "outputs": [],
   "source": [
    "from utils import save_model, load_model\n",
    "\n",
    "save_model(super_simple_classifier, \"trained_models/super_simple_classifier.pkl\")"
   ],
   "metadata": {
    "collapsed": false,
    "ExecuteTime": {
     "end_time": "2023-11-26T16:11:58.360462700Z",
     "start_time": "2023-11-26T16:11:58.104947400Z"
    }
   },
   "id": "3f13e3b271b004ac"
  },
  {
   "cell_type": "code",
   "execution_count": 3,
   "outputs": [
    {
     "name": "stdout",
     "output_type": "stream",
     "text": [
      "Accuracy: 84.88%\n"
     ]
    }
   ],
   "source": [
    "from utils import load_model\n",
    "\n",
    "loaded_model = load_model(\"trained_models/super_simple_classifier.pkl\")\n",
    "\n",
    "loaded_model.evaluate(x_test, y_test_one_hot)"
   ],
   "metadata": {
    "collapsed": false,
    "ExecuteTime": {
     "end_time": "2023-11-26T16:14:31.624823300Z",
     "start_time": "2023-11-26T16:14:31.482976200Z"
    }
   },
   "id": "132561d64f778637"
  }
 ],
 "metadata": {
  "kernelspec": {
   "display_name": "Python 3",
   "language": "python",
   "name": "python3"
  },
  "language_info": {
   "codemirror_mode": {
    "name": "ipython",
    "version": 2
   },
   "file_extension": ".py",
   "mimetype": "text/x-python",
   "name": "python",
   "nbconvert_exporter": "python",
   "pygments_lexer": "ipython2",
   "version": "2.7.6"
  }
 },
 "nbformat": 4,
 "nbformat_minor": 5
}
